{
 "cells": [
  {
   "cell_type": "markdown",
   "id": "04b37ee1-012d-4fcf-8967-92c86b287038",
   "metadata": {},
   "source": [
    "# Data Science Tools and Ecosystem"
   ]
  },
  {
   "cell_type": "markdown",
   "id": "8be6522c-69bb-4571-ae03-4e87b40cf699",
   "metadata": {},
   "source": [
    "In this notebook, Data Science Tools and Ecosystem are summarized."
   ]
  },
  {
   "cell_type": "markdown",
   "id": "d08513ab-71c2-42ff-91ae-d87692e3fc87",
   "metadata": {
    "tags": []
   },
   "source": [
    "**OBJECTIBVE**\n",
    "\n",
    "+List popular languages for Data Science\n",
    "+libraries used by data scientist\n",
    "+data science tools"
   ]
  },
  {
   "cell_type": "markdown",
   "id": "b52e4105-b390-41e2-bb7c-ec1c47974705",
   "metadata": {},
   "source": [
    "Some of the popular languages that Data Scientists use are:\n",
    "Ordered list\n",
    "1. python\n",
    "2. R\n",
    "3. SQL\n"
   ]
  },
  {
   "cell_type": "markdown",
   "id": "8cbb30a7-33e0-4195-b311-7a1be402fced",
   "metadata": {},
   "source": [
    "Some of the commonly used libraries used by Data Scientists include:\n",
    "\n",
    "1. NUMPY\n",
    "2. PANDAS\n",
    "3. matplotlib"
   ]
  },
  {
   "cell_type": "markdown",
   "id": "1a763458-ac91-4ff0-b428-79b6c5ab5381",
   "metadata": {
    "tags": []
   },
   "source": [
    "|Data science tools |\n",
    "---------------------\n",
    "| Rstudio |\n",
    "| jupyter |\n",
    "| anaconda |"
   ]
  },
  {
   "cell_type": "markdown",
   "id": "54891961-d5f2-4d60-a51b-e7b14dbf95c5",
   "metadata": {
    "tags": []
   },
   "source": [
    "### Below are a few examples of evaluating arithmetic expressions in Python"
   ]
  },
  {
   "cell_type": "code",
   "execution_count": 17,
   "id": "914b79d3-8ed9-4a80-ad75-7c3d7349449c",
   "metadata": {
    "tags": []
   },
   "outputs": [
    {
     "data": {
      "text/plain": [
       "17"
      ]
     },
     "execution_count": 17,
     "metadata": {},
     "output_type": "execute_result"
    }
   ],
   "source": [
    "#This a simple arithmetic expression to mutiply then add integer \n",
    "(3*4)+5"
   ]
  },
  {
   "cell_type": "code",
   "execution_count": 12,
   "id": "82dd3b66-53f4-4343-967c-9a7dc8e224ac",
   "metadata": {
    "tags": []
   },
   "outputs": [
    {
     "data": {
      "text/plain": [
       "3.3333333333333335"
      ]
     },
     "execution_count": 12,
     "metadata": {},
     "output_type": "execute_result"
    }
   ],
   "source": [
    "# This will convert 200 minutes to hours by diving by 60\n",
    "minutes = 200\n",
    "hours = minutes/60\n",
    "hours"
   ]
  },
  {
   "cell_type": "markdown",
   "id": "48eb7a17-5719-49ab-acf6-ff56208f10a9",
   "metadata": {},
   "source": [
    "## Author\n",
    "\n",
    "kushal\n",
    "\n"
   ]
  },
  {
   "cell_type": "code",
   "execution_count": null,
   "id": "253ace3a-54d8-440f-8ecd-29eb2b3b527c",
   "metadata": {},
   "outputs": [],
   "source": []
  }
 ],
 "metadata": {
  "kernelspec": {
   "display_name": "Python",
   "language": "python",
   "name": "conda-env-python-py"
  },
  "language_info": {
   "codemirror_mode": {
    "name": "ipython",
    "version": 3
   },
   "file_extension": ".py",
   "mimetype": "text/x-python",
   "name": "python",
   "nbconvert_exporter": "python",
   "pygments_lexer": "ipython3",
   "version": "3.7.12"
  }
 },
 "nbformat": 4,
 "nbformat_minor": 5
}
